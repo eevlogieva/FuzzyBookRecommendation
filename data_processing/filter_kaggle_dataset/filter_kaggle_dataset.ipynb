{
 "metadata": {
  "language_info": {
   "codemirror_mode": {
    "name": "ipython",
    "version": 3
   },
   "file_extension": ".py",
   "mimetype": "text/x-python",
   "name": "python",
   "nbconvert_exporter": "python",
   "pygments_lexer": "ipython3",
   "version": "3.8.5-final"
  },
  "orig_nbformat": 2,
  "kernelspec": {
   "name": "python3",
   "display_name": "Python 3.8.5 64-bit ('venv')",
   "metadata": {
    "interpreter": {
     "hash": "f592951e82e3155025fb9e06d83e1e20a3c7e94d7dcb2247275f125da0352cc9"
    }
   }
  }
 },
 "nbformat": 4,
 "nbformat_minor": 2,
 "cells": [
  {
   "cell_type": "code",
   "execution_count": 1,
   "metadata": {},
   "outputs": [],
   "source": [
    "import pandas as pd\n",
    "\n",
    "tags = pd.read_csv(\"./../../data/kaggle/tags.csv\")\n",
    "\n"
   ]
  },
  {
   "cell_type": "code",
   "execution_count": 2,
   "metadata": {},
   "outputs": [
    {
     "output_type": "stream",
     "name": "stdout",
     "text": [
      "       tag_id    tag_name\n0           0           -\n1           1        --1-\n2           2       --10-\n3           3       --12-\n4           4      --122-\n...       ...         ...\n34247   34247   Ｃhildrens\n34248   34248   Ｆａｖｏｒｉｔｅｓ\n34249   34249       Ｍａｎｇａ\n34250   34250      ＳＥＲＩＥＳ\n34251   34251  ｆａｖｏｕｒｉｔｅｓ\n\n[34252 rows x 2 columns]\n"
     ]
    }
   ],
   "source": [
    "print(tags)"
   ]
  },
  {
   "cell_type": "code",
   "execution_count": 3,
   "metadata": {},
   "outputs": [],
   "source": [
    "book_tags = pd.read_csv(\"./../../data/kaggle/book_tags.csv\")"
   ]
  },
  {
   "cell_type": "code",
   "execution_count": 4,
   "metadata": {},
   "outputs": [
    {
     "output_type": "stream",
     "name": "stdout",
     "text": [
      "        goodreads_book_id  tag_id   count\n0                       1   30574  167697\n1                       1   11305   37174\n2                       1   11557   34173\n3                       1    8717   12986\n4                       1   33114   12716\n...                   ...     ...     ...\n999907           33288638   21303       7\n999908           33288638   17271       7\n999909           33288638    1126       7\n999910           33288638   11478       7\n999911           33288638   27939       7\n\n[999912 rows x 3 columns]\n"
     ]
    }
   ],
   "source": [
    "print(book_tags)"
   ]
  },
  {
   "cell_type": "code",
   "execution_count": 15,
   "metadata": {},
   "outputs": [
    {
     "output_type": "stream",
     "name": "stdout",
     "text": [
      "        tag_id   count     tag_name\n0        30574  167697      to-read\n1        30574   24549      to-read\n2        30574  496107      to-read\n3        30574   11909      to-read\n4        30574     298      to-read\n...        ...     ...          ...\n999907   14690       6     hogwarts\n999908   16149      21     jan-2017\n999909   27821       9   single-mom\n999910   11478       7  fave-author\n999911   27939       7     slowburn\n\n[999912 rows x 3 columns]\n"
     ]
    }
   ],
   "source": [
    "df = book_tags.merge(tags, on='tag_id').drop(['goodreads_book_id'], axis=1)\n",
    "print(df)"
   ]
  },
  {
   "cell_type": "code",
   "execution_count": 17,
   "metadata": {},
   "outputs": [
    {
     "output_type": "execute_result",
     "data": {
      "text/plain": [
       "count    int64\n",
       "dtype: object"
      ]
     },
     "metadata": {},
     "execution_count": 17
    }
   ],
   "source": [
    "df.dtypes"
   ]
  },
  {
   "cell_type": "code",
   "execution_count": 16,
   "metadata": {},
   "outputs": [
    {
     "output_type": "stream",
     "name": "stdout",
     "text": [
      "        count\ntag_id       \n0          24\n1           6\n2           3\n3           3\n4           3\n...       ...\n34247     353\n34248    7456\n34249     222\n34250      24\n34251     384\n\n[34252 rows x 1 columns]\n"
     ]
    }
   ],
   "source": [
    "df = df.groupby(\"tag_id\").sum()\n",
    "print(df)"
   ]
  },
  {
   "cell_type": "code",
   "execution_count": 25,
   "metadata": {},
   "outputs": [
    {
     "output_type": "execute_result",
     "data": {
      "text/plain": [
       "    tag_id      count            tag_name\n",
       "0    30574  140718761             to-read\n",
       "1     8717    7507958   currently-reading\n",
       "2    11557    4503173           favorites\n",
       "3    11743    3688819             fiction\n",
       "4    11305    3548157             fantasy\n",
       "5    33114    1848306         young-adult\n",
       "6     7457    1756920            classics\n",
       "7     5207    1317235         books-i-own\n",
       "8    26138    1231926             romance\n",
       "9    22743    1224279               owned\n",
       "10   32989     898334                  ya\n",
       "11   20939     872282             mystery\n",
       "12   21689     857901         non-fiction\n",
       "13   14487     815421  historical-fiction\n",
       "14   27199     782637              series\n",
       "15   26837     703866     science-fiction\n",
       "16   26771     597325              sci-fi\n",
       "17   22973     542559          paranormal\n",
       "18   17213     506882              kindle\n",
       "19    8055     486001        contemporary\n",
       "20    4949     446685           book-club\n",
       "21   18045     429171             library\n",
       "22   11590     423289          favourites\n",
       "23   22753     417384         owned-books\n",
       "24   14821     415467              horror\n",
       "25    9221     405326             default\n",
       "26    3389     388991           audiobook\n",
       "27   31617     374689       urban-fantasy\n",
       "28   21773     371049          nonfiction\n",
       "29   30521     363276              to-buy\n",
       "30    1642     337222               adult\n",
       "31    7404     334113             classic\n",
       "32    6953     315716           childrens\n",
       "33   13561     313560      graphic-novels\n",
       "34   30358     309276            thriller\n",
       "35    3392     307154          audiobooks\n",
       "36   10197     302571               ebook\n",
       "37   31745     300730            vampires\n",
       "38    1691     295933           adventure\n",
       "39   14552     291366             history\n",
       "40   10064     281487           dystopian\n",
       "41    3371     264746               audio\n",
       "42   14467     263267          historical\n",
       "43   15048     262340               humor\n",
       "44   22034     260327              novels\n",
       "45    6750     251072           chick-lit\n",
       "46   18367     249441          literature\n",
       "47   10059     231846            dystopia\n",
       "48   20774     225606            my-books\n",
       "49   22983     221939  paranormal-romance"
      ],
      "text/html": "<div>\n<style scoped>\n    .dataframe tbody tr th:only-of-type {\n        vertical-align: middle;\n    }\n\n    .dataframe tbody tr th {\n        vertical-align: top;\n    }\n\n    .dataframe thead th {\n        text-align: right;\n    }\n</style>\n<table border=\"1\" class=\"dataframe\">\n  <thead>\n    <tr style=\"text-align: right;\">\n      <th></th>\n      <th>tag_id</th>\n      <th>count</th>\n      <th>tag_name</th>\n    </tr>\n  </thead>\n  <tbody>\n    <tr>\n      <th>0</th>\n      <td>30574</td>\n      <td>140718761</td>\n      <td>to-read</td>\n    </tr>\n    <tr>\n      <th>1</th>\n      <td>8717</td>\n      <td>7507958</td>\n      <td>currently-reading</td>\n    </tr>\n    <tr>\n      <th>2</th>\n      <td>11557</td>\n      <td>4503173</td>\n      <td>favorites</td>\n    </tr>\n    <tr>\n      <th>3</th>\n      <td>11743</td>\n      <td>3688819</td>\n      <td>fiction</td>\n    </tr>\n    <tr>\n      <th>4</th>\n      <td>11305</td>\n      <td>3548157</td>\n      <td>fantasy</td>\n    </tr>\n    <tr>\n      <th>5</th>\n      <td>33114</td>\n      <td>1848306</td>\n      <td>young-adult</td>\n    </tr>\n    <tr>\n      <th>6</th>\n      <td>7457</td>\n      <td>1756920</td>\n      <td>classics</td>\n    </tr>\n    <tr>\n      <th>7</th>\n      <td>5207</td>\n      <td>1317235</td>\n      <td>books-i-own</td>\n    </tr>\n    <tr>\n      <th>8</th>\n      <td>26138</td>\n      <td>1231926</td>\n      <td>romance</td>\n    </tr>\n    <tr>\n      <th>9</th>\n      <td>22743</td>\n      <td>1224279</td>\n      <td>owned</td>\n    </tr>\n    <tr>\n      <th>10</th>\n      <td>32989</td>\n      <td>898334</td>\n      <td>ya</td>\n    </tr>\n    <tr>\n      <th>11</th>\n      <td>20939</td>\n      <td>872282</td>\n      <td>mystery</td>\n    </tr>\n    <tr>\n      <th>12</th>\n      <td>21689</td>\n      <td>857901</td>\n      <td>non-fiction</td>\n    </tr>\n    <tr>\n      <th>13</th>\n      <td>14487</td>\n      <td>815421</td>\n      <td>historical-fiction</td>\n    </tr>\n    <tr>\n      <th>14</th>\n      <td>27199</td>\n      <td>782637</td>\n      <td>series</td>\n    </tr>\n    <tr>\n      <th>15</th>\n      <td>26837</td>\n      <td>703866</td>\n      <td>science-fiction</td>\n    </tr>\n    <tr>\n      <th>16</th>\n      <td>26771</td>\n      <td>597325</td>\n      <td>sci-fi</td>\n    </tr>\n    <tr>\n      <th>17</th>\n      <td>22973</td>\n      <td>542559</td>\n      <td>paranormal</td>\n    </tr>\n    <tr>\n      <th>18</th>\n      <td>17213</td>\n      <td>506882</td>\n      <td>kindle</td>\n    </tr>\n    <tr>\n      <th>19</th>\n      <td>8055</td>\n      <td>486001</td>\n      <td>contemporary</td>\n    </tr>\n    <tr>\n      <th>20</th>\n      <td>4949</td>\n      <td>446685</td>\n      <td>book-club</td>\n    </tr>\n    <tr>\n      <th>21</th>\n      <td>18045</td>\n      <td>429171</td>\n      <td>library</td>\n    </tr>\n    <tr>\n      <th>22</th>\n      <td>11590</td>\n      <td>423289</td>\n      <td>favourites</td>\n    </tr>\n    <tr>\n      <th>23</th>\n      <td>22753</td>\n      <td>417384</td>\n      <td>owned-books</td>\n    </tr>\n    <tr>\n      <th>24</th>\n      <td>14821</td>\n      <td>415467</td>\n      <td>horror</td>\n    </tr>\n    <tr>\n      <th>25</th>\n      <td>9221</td>\n      <td>405326</td>\n      <td>default</td>\n    </tr>\n    <tr>\n      <th>26</th>\n      <td>3389</td>\n      <td>388991</td>\n      <td>audiobook</td>\n    </tr>\n    <tr>\n      <th>27</th>\n      <td>31617</td>\n      <td>374689</td>\n      <td>urban-fantasy</td>\n    </tr>\n    <tr>\n      <th>28</th>\n      <td>21773</td>\n      <td>371049</td>\n      <td>nonfiction</td>\n    </tr>\n    <tr>\n      <th>29</th>\n      <td>30521</td>\n      <td>363276</td>\n      <td>to-buy</td>\n    </tr>\n    <tr>\n      <th>30</th>\n      <td>1642</td>\n      <td>337222</td>\n      <td>adult</td>\n    </tr>\n    <tr>\n      <th>31</th>\n      <td>7404</td>\n      <td>334113</td>\n      <td>classic</td>\n    </tr>\n    <tr>\n      <th>32</th>\n      <td>6953</td>\n      <td>315716</td>\n      <td>childrens</td>\n    </tr>\n    <tr>\n      <th>33</th>\n      <td>13561</td>\n      <td>313560</td>\n      <td>graphic-novels</td>\n    </tr>\n    <tr>\n      <th>34</th>\n      <td>30358</td>\n      <td>309276</td>\n      <td>thriller</td>\n    </tr>\n    <tr>\n      <th>35</th>\n      <td>3392</td>\n      <td>307154</td>\n      <td>audiobooks</td>\n    </tr>\n    <tr>\n      <th>36</th>\n      <td>10197</td>\n      <td>302571</td>\n      <td>ebook</td>\n    </tr>\n    <tr>\n      <th>37</th>\n      <td>31745</td>\n      <td>300730</td>\n      <td>vampires</td>\n    </tr>\n    <tr>\n      <th>38</th>\n      <td>1691</td>\n      <td>295933</td>\n      <td>adventure</td>\n    </tr>\n    <tr>\n      <th>39</th>\n      <td>14552</td>\n      <td>291366</td>\n      <td>history</td>\n    </tr>\n    <tr>\n      <th>40</th>\n      <td>10064</td>\n      <td>281487</td>\n      <td>dystopian</td>\n    </tr>\n    <tr>\n      <th>41</th>\n      <td>3371</td>\n      <td>264746</td>\n      <td>audio</td>\n    </tr>\n    <tr>\n      <th>42</th>\n      <td>14467</td>\n      <td>263267</td>\n      <td>historical</td>\n    </tr>\n    <tr>\n      <th>43</th>\n      <td>15048</td>\n      <td>262340</td>\n      <td>humor</td>\n    </tr>\n    <tr>\n      <th>44</th>\n      <td>22034</td>\n      <td>260327</td>\n      <td>novels</td>\n    </tr>\n    <tr>\n      <th>45</th>\n      <td>6750</td>\n      <td>251072</td>\n      <td>chick-lit</td>\n    </tr>\n    <tr>\n      <th>46</th>\n      <td>18367</td>\n      <td>249441</td>\n      <td>literature</td>\n    </tr>\n    <tr>\n      <th>47</th>\n      <td>10059</td>\n      <td>231846</td>\n      <td>dystopia</td>\n    </tr>\n    <tr>\n      <th>48</th>\n      <td>20774</td>\n      <td>225606</td>\n      <td>my-books</td>\n    </tr>\n    <tr>\n      <th>49</th>\n      <td>22983</td>\n      <td>221939</td>\n      <td>paranormal-romance</td>\n    </tr>\n  </tbody>\n</table>\n</div>"
     },
     "metadata": {},
     "execution_count": 25
    }
   ],
   "source": [
    "df.sort_values(by='count', ascending=False).head(50).merge(tags, on='tag_id')"
   ]
  },
  {
   "cell_type": "code",
   "execution_count": null,
   "metadata": {},
   "outputs": [],
   "source": []
  }
 ]
}